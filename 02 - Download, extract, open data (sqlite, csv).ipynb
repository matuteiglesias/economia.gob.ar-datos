{
 "cells": [
  {
   "cell_type": "code",
   "execution_count": 42,
   "metadata": {},
   "outputs": [
    {
     "name": "stdout",
     "output_type": "stream",
     "text": [
      "Encabezado: Valores y metadatos\n",
      "https://apis.datos.gob.ar/series/api/dump/sspm/series-tiempo-csv.zip\n",
      "https://apis.datos.gob.ar/series/api/dump/sspm/series-tiempo.xlsx\n",
      "https://apis.datos.gob.ar/series/api/dump/sspm/series-tiempo-sqlite.zip\n",
      "\n",
      "Encabezado: Metadatos enriquecidos de las series\n",
      "https://apis.datos.gob.ar/series/api/dump/sspm/series-tiempo-metadatos.csv\n",
      "https://apis.datos.gob.ar/series/api/dump/sspm/series-tiempo-metadatos.xlsx\n",
      "https://apis.datos.gob.ar/series/api/dump/sspm/series-tiempo-metadatos.dta\n",
      "\n",
      "Encabezado: Valores\n",
      "https://apis.datos.gob.ar/series/api/dump/sspm/series-tiempo-valores-csv.zip\n",
      "https://apis.datos.gob.ar/series/api/dump/sspm/series-tiempo-valores.xlsx\n",
      "https://apis.datos.gob.ar/series/api/dump/sspm/series-tiempo-valores-dta.zip\n",
      "\n",
      "Encabezado: Fuentes\n",
      "https://apis.datos.gob.ar/series/api/dump/sspm/series-tiempo-fuentes.csv\n",
      "https://apis.datos.gob.ar/series/api/dump/sspm/series-tiempo-fuentes.xlsx\n",
      "https://apis.datos.gob.ar/series/api/dump/sspm/series-tiempo-fuentes.dta\n",
      "\n"
     ]
    }
   ],
   "source": [
    "import json\n",
    "\n",
    "# Load the JSON data from the file\n",
    "with open('enlaces_datos.json', 'r') as file:\n",
    "    enlaces_datos = json.load(file)\n",
    "\n",
    "# Access and use the loaded data as a dictionary\n",
    "for encabezado, enlaces in enlaces_datos.items():\n",
    "    print(f\"Encabezado: {encabezado}\")\n",
    "    for enlace in enlaces:\n",
    "        print(enlace)\n",
    "    print()"
   ]
  },
  {
   "cell_type": "markdown",
   "metadata": {},
   "source": [
    "## Valores y metadatos - SQLITE\n",
    "\n",
    "To download the SQLite database file from the given URL, you can use the requests library in Python. Here's an example:"
   ]
  },
  {
   "cell_type": "markdown",
   "metadata": {},
   "source": [
    "### Bajar el zip"
   ]
  },
  {
   "cell_type": "code",
   "execution_count": 43,
   "metadata": {},
   "outputs": [
    {
     "name": "stdout",
     "output_type": "stream",
     "text": [
      "SQLite database file 'series-tiempo-sqlite.zip' downloaded successfully.\n"
     ]
    }
   ],
   "source": [
    "import requests\n",
    "\n",
    "url = 'https://apis.datos.gob.ar/series/api/dump/sspm/series-tiempo-sqlite.zip'\n",
    "\n",
    "# Send a GET request to the URL\n",
    "response = requests.get(url)\n",
    "\n",
    "# Check if the request was successful\n",
    "if response.status_code == 200:\n",
    "    # Get the filename from the URL\n",
    "    filename = url.split('/')[-1]\n",
    "\n",
    "    # Save the downloaded file\n",
    "    with open(filename, 'wb') as file:\n",
    "        file.write(response.content)\n",
    "    \n",
    "    print(f\"SQLite database file '{filename}' downloaded successfully.\")\n",
    "else:\n",
    "    print(\"Failed to download the SQLite database file.\")\n"
   ]
  },
  {
   "attachments": {},
   "cell_type": "markdown",
   "metadata": {},
   "source": [
    "### Descomprimir"
   ]
  },
  {
   "cell_type": "code",
   "execution_count": 44,
   "metadata": {},
   "outputs": [
    {
     "name": "stdout",
     "output_type": "stream",
     "text": [
      "The contents of 'series-tiempo-sqlite.zip' have been extracted to './datos/'.\n"
     ]
    }
   ],
   "source": [
    "import zipfile\n",
    "\n",
    "zip_filename = 'series-tiempo-sqlite.zip'\n",
    "extract_directory = './datos/'\n",
    "\n",
    "# Extract the contents of the ZIP file\n",
    "with zipfile.ZipFile(zip_filename, 'r') as zip_ref:\n",
    "    zip_ref.extractall(extract_directory)\n",
    "\n",
    "print(f\"The contents of '{zip_filename}' have been extracted to '{extract_directory}'.\")\n"
   ]
  },
  {
   "cell_type": "code",
   "execution_count": null,
   "metadata": {},
   "outputs": [],
   "source": []
  },
  {
   "cell_type": "code",
   "execution_count": 45,
   "metadata": {},
   "outputs": [
    {
     "name": "stdout",
     "output_type": "stream",
     "text": [
      "fuentes\n",
      "metadatos\n",
      "valores\n"
     ]
    }
   ],
   "source": [
    "import sqlite3\n",
    "\n",
    "database_file = './datos/series-tiempo.sqlite'\n",
    "\n",
    "# Connect to the SQLite database\n",
    "conn = sqlite3.connect(database_file)\n",
    "\n",
    "# Create a cursor object to execute SQL queries\n",
    "cursor = conn.cursor()\n",
    "\n",
    "# Retrieve the table names in the database\n",
    "cursor.execute(\"SELECT name FROM sqlite_master WHERE type='table'\")\n",
    "tables = cursor.fetchall()\n",
    "\n",
    "# Print the table names\n",
    "for table in tables:\n",
    "    print(table[0])\n",
    "\n",
    "# Close the cursor and the database connection\n",
    "cursor.close()\n",
    "conn.close()\n"
   ]
  },
  {
   "cell_type": "code",
   "execution_count": 53,
   "metadata": {},
   "outputs": [],
   "source": [
    "import sqlite3\n",
    "\n",
    "database_file = './datos/series-tiempo.sqlite'\n",
    "\n",
    "def show_table_head(table_name, num_rows=5):\n",
    "    # Connect to the SQLite database\n",
    "    conn = sqlite3.connect(database_file)\n",
    "\n",
    "    # Create a cursor object to execute SQL queries\n",
    "    cursor = conn.cursor()\n",
    "\n",
    "    try:\n",
    "        # Execute the query to retrieve the head of the table\n",
    "        cursor.execute(f\"SELECT * FROM {table_name} LIMIT {num_rows}\")\n",
    "        rows = cursor.fetchall()\n",
    "\n",
    "        # Print the retrieved rows\n",
    "        for row in rows:\n",
    "            print(row)\n",
    "\n",
    "        # Get the shape of the table\n",
    "        cursor.execute(f\"SELECT COUNT(*) FROM {table_name}\")\n",
    "        num_rows = cursor.fetchone()[0]\n",
    "        cursor.execute(f\"PRAGMA table_info({table_name})\")\n",
    "        columns = cursor.fetchall()\n",
    "        num_columns = len(columns)\n",
    "\n",
    "        print(f\"\\nTabla: {table_name}\")\n",
    "        print(f\"Número de filas: {num_rows}\")\n",
    "        print(f\"Número de columnas: {num_columns}\")\n",
    "\n",
    "        # Get the number of unique entries per column\n",
    "        unique_entries = []\n",
    "        for i in range(num_columns):\n",
    "            column_name = columns[i][1]\n",
    "            if column_name is None:\n",
    "                continue\n",
    "            cursor.execute(f\"SELECT COUNT(DISTINCT {column_name}) FROM {table_name}\")\n",
    "            unique_count = cursor.fetchone()[0]\n",
    "            unique_entries.append(unique_count)\n",
    "\n",
    "        print(\"\\nNúmero de entradas únicas por columna:\")\n",
    "        for i in range(num_columns):\n",
    "            column_name = columns[i][1]\n",
    "            if column_name is None:\n",
    "                continue\n",
    "            unique_count = unique_entries[i]\n",
    "            print(f\"{column_name}: {unique_count}\")\n",
    "\n",
    "    except sqlite3.OperationalError as e:\n",
    "        print(f\"Error: {e}\")\n",
    "\n",
    "    # Close the cursor and the database connection\n",
    "    cursor.close()\n",
    "    conn.close()\n"
   ]
  },
  {
   "cell_type": "code",
   "execution_count": 54,
   "metadata": {},
   "outputs": [
    {
     "name": "stdout",
     "output_type": "stream",
     "text": [
      "('1.1_DGCP_D_1993_A_27', 'sspm', '1', '1.1', 'R/P1Y', 'demanda_global_consumo_priv', 'Millones de pesos a precios de 1993', 'Consumo privado desestacionalizado, en millones de pesos de 1993 y Trimestral', 'Oferta y Demanda Global. Precios constantes desestacionalizados. Base 1993. Valores anuales.', 'Consumo privado desestacionalizado, en millones de pesos de 1993 y Trimestral', 'https://infra.datos.gob.ar/catalog/sspm/dataset/1/distribution/1.1/download/oferta-demanda-globales-datos-desestacionalizados-valores-anuales-base-1993.csv', 'Oferta y Demanda Globales. Datos desestacionalizados. Base 1993', 'Instituto Nacional de Estadística y Censos (INDEC)', 'Actividad', 'Componentes desestacionalizados de la oferta y demanda globales a precios de 1993.', 'Actividad', '1993-01-01', '2012-01-01', 20, 3074, 0, 62643.77010394083, 58881.473, 0.06389611047843236, 1, 261, 5, 9, 31)\n",
      "('1.1_DGCP_D_1993_A_30', 'sspm', '1', '1.1', 'R/P1Y', 'demanda_global_consumo_publico', 'Millones de pesos a precios de 1993', 'Consumo publico desestacionalizado, en millones de pesos de 1993 y Trimestral', 'Oferta y Demanda Global. Precios constantes desestacionalizados. Base 1993. Valores anuales.', 'Consumo publico desestacionalizado, en millones de pesos de 1993 y Trimestral', 'https://infra.datos.gob.ar/catalog/sspm/dataset/1/distribution/1.1/download/oferta-demanda-globales-datos-desestacionalizados-valores-anuales-base-1993.csv', 'Oferta y Demanda Globales. Datos desestacionalizados. Base 1993', 'Instituto Nacional de Estadística y Censos (INDEC)', 'Actividad', 'Componentes desestacionalizados de la oferta y demanda globales a precios de 1993.', 'Actividad', '1993-01-01', '2012-01-01', 20, 3074, 0, 316988.17049886595, 303623.485, 0.04401729826289946, 1, 24711, 15, 14, 35)\n",
      "('1.1_DGE_D_1993_A_26', 'sspm', '1', '1.1', 'R/P1Y', 'demanda_global_exportacion', 'Millones de pesos a precios de 1993', 'Exportaciones desestacionalizadas, en millones de pesos de 1993 y Trimestral', 'Oferta y Demanda Global. Precios constantes desestacionalizados. Base 1993. Valores anuales.', 'Exportaciones desestacionalizadas, en millones de pesos de 1993 y Trimestral', 'https://infra.datos.gob.ar/catalog/sspm/dataset/1/distribution/1.1/download/oferta-demanda-globales-datos-desestacionalizados-valores-anuales-base-1993.csv', 'Oferta y Demanda Globales. Datos desestacionalizados. Base 1993', 'Instituto Nacional de Estadística y Censos (INDEC)', 'Actividad', 'Componentes desestacionalizados de la oferta y demanda globales a precios de 1993.', 'Actividad', '1993-01-01', '2012-01-01', 20, 3074, 0, 53141.11327880729, 57064.30975000003, -0.06875044118434714, 1, 114, 12, 9, 33)\n",
      "('1.1_DGI_D_1993_A_19', 'sspm', '1', '1.1', 'R/P1Y', 'demanda_global_ibif', 'Millones de pesos a precios de 1993', 'Inversion bruta interna fija desestacionalizada, en millones de pesos de 1993 y Trimestral', 'Oferta y Demanda Global. Precios constantes desestacionalizados. Base 1993. Valores anuales.', 'Inversion bruta interna fija desestacionalizada, en millones de pesos de 1993 y Trimestral', 'https://infra.datos.gob.ar/catalog/sspm/dataset/1/distribution/1.1/download/oferta-demanda-globales-datos-desestacionalizados-valores-anuales-base-1993.csv', 'Oferta y Demanda Globales. Datos desestacionalizados. Base 1993', 'Instituto Nacional de Estadística y Censos (INDEC)', 'Actividad', 'Componentes desestacionalizados de la oferta y demanda globales a precios de 1993.', 'Actividad', '1993-01-01', '2012-01-01', 20, 3074, 0, 106706.81948732876, 112365.92175, -0.05036315436687311, 1, 24528, 15, 15, 35)\n",
      "('1.1_OGI_D_1993_A_25', 'sspm', '1', '1.1', 'R/P1Y', 'oferta_global_importacion', 'Millones de pesos a precios de 1993', 'Importaciones desestacionalizadas, en millones de pesos de 1993 y Trimestral', 'Oferta y Demanda Global. Precios constantes desestacionalizados. Base 1993. Valores anuales.', 'Importaciones desestacionalizadas, en millones de pesos de 1993 y Trimestral', 'https://infra.datos.gob.ar/catalog/sspm/dataset/1/distribution/1.1/download/oferta-demanda-globales-datos-desestacionalizados-valores-anuales-base-1993.csv', 'Oferta y Demanda Globales. Datos desestacionalizados. Base 1993', 'Instituto Nacional de Estadística y Censos (INDEC)', 'Actividad', 'Componentes desestacionalizados de la oferta y demanda globales a precios de 1993.', 'Actividad', '1993-01-01', '2012-01-01', 20, 3074, 0, 65655.9833486338, 69527.17349999999, -0.05567880810466408, 1, 103, 10, 9, 31)\n",
      "\n",
      "Tabla: metadatos\n",
      "Número de filas: 19891\n",
      "Número de columnas: 29\n",
      "\n",
      "Número de entradas únicas por columna:\n",
      "serie_id: 19891\n",
      "catalogo_id: 1\n",
      "dataset_id: 267\n",
      "distribucion_id: 662\n",
      "indice_tiempo_frecuencia: 5\n",
      "serie_titulo: 7800\n",
      "serie_unidades: 136\n",
      "serie_descripcion: 10996\n",
      "distribucion_titulo: 645\n",
      "distribucion_descripcion: 10996\n",
      "distribucion_url_descarga: 646\n",
      "dataset_responsable: 267\n",
      "dataset_fuente: 27\n",
      "dataset_titulo: 9\n",
      "dataset_descripcion: 256\n",
      "dataset_tema: 9\n",
      "serie_indice_inicio: 314\n",
      "serie_indice_final: 237\n",
      "serie_valores_cant: 374\n",
      "serie_dias_no_cubiertos: 109\n",
      "serie_actualizada: 2\n",
      "serie_valor_ultimo: 16613\n",
      "serie_valor_anterior: 16210\n",
      "serie_var_pct_anterior: 16858\n",
      "serie_discontinuada: 1\n",
      "consultas_total: 1039\n",
      "consultas_30_dias: 376\n",
      "consultas_90_dias: 301\n",
      "consultas_180_dias: 574\n"
     ]
    }
   ],
   "source": [
    "show_table_head(\"metadatos\")\n"
   ]
  },
  {
   "cell_type": "code",
   "execution_count": 55,
   "metadata": {},
   "outputs": [
    {
     "name": "stdout",
     "output_type": "stream",
     "text": [
      "('1.1_OGP_D_1993_A_17', '1993-01-01', 236520.03357744176)\n",
      "('1.1_OGP_D_1993_A_17', '1994-01-01', 250307.88599999977)\n",
      "('1.1_OGP_D_1993_A_17', '1995-01-01', 243186.10174999977)\n",
      "('1.1_OGP_D_1993_A_17', '1996-01-01', 256626.24399999998)\n",
      "('1.1_OGP_D_1993_A_17', '1997-01-01', 277441.31725)\n",
      "\n",
      "Tabla: valores\n",
      "Número de filas: 582501\n",
      "Número de columnas: 3\n",
      "\n",
      "Número de entradas únicas por columna:\n",
      "serie_id: 1747\n",
      "indice_tiempo: 8975\n",
      "valor: 284251\n"
     ]
    }
   ],
   "source": [
    "show_table_head(\"valores\")\n"
   ]
  },
  {
   "cell_type": "code",
   "execution_count": null,
   "metadata": {},
   "outputs": [],
   "source": []
  },
  {
   "cell_type": "markdown",
   "metadata": {},
   "source": [
    "## Leer CSV"
   ]
  },
  {
   "cell_type": "code",
   "execution_count": 49,
   "metadata": {},
   "outputs": [],
   "source": [
    "import requests\n",
    "import zipfile\n",
    "import os\n",
    "\n",
    "def download_and_unzip(url, extract_directory=None):\n",
    "    response = requests.get(url)\n",
    "    if response.status_code == 200:\n",
    "        filename = url.split('/')[-1]  # Extract filename from the URL\n",
    "        \n",
    "        if not extract_directory:\n",
    "            extract_directory = os.path.splitext(filename)[0]\n",
    "        \n",
    "        with open(filename, 'wb') as file:\n",
    "            file.write(response.content)\n",
    "        \n",
    "        with zipfile.ZipFile(filename, 'r') as zip_ref:\n",
    "            zip_ref.extractall(extract_directory)\n",
    "        \n",
    "        os.remove(filename)\n",
    "        \n",
    "        print(f\"The contents of '{filename}' have been extracted to '{extract_directory}'.\")\n",
    "    else:\n",
    "        print(f\"Failed to download file from '{url}'.\")"
   ]
  },
  {
   "cell_type": "code",
   "execution_count": 50,
   "metadata": {},
   "outputs": [
    {
     "ename": "KeyboardInterrupt",
     "evalue": "",
     "output_type": "error",
     "traceback": [
      "\u001b[0;31m---------------------------------------------------------------------------\u001b[0m",
      "\u001b[0;31mKeyboardInterrupt\u001b[0m                         Traceback (most recent call last)",
      "\u001b[0;32m/tmp/ipykernel_654529/3157317143.py\u001b[0m in \u001b[0;36m<module>\u001b[0;34m\u001b[0m\n\u001b[1;32m      4\u001b[0m \u001b[0;34m\u001b[0m\u001b[0m\n\u001b[1;32m      5\u001b[0m \u001b[0;31m# Download the CSV file if not present\u001b[0m\u001b[0;34m\u001b[0m\u001b[0;34m\u001b[0m\u001b[0m\n\u001b[0;32m----> 6\u001b[0;31m \u001b[0mdownload_and_unzip\u001b[0m\u001b[0;34m(\u001b[0m\u001b[0mcsv_url1\u001b[0m\u001b[0;34m,\u001b[0m \u001b[0mextract_directory\u001b[0m \u001b[0;34m=\u001b[0m \u001b[0;34m'./datos/'\u001b[0m\u001b[0;34m)\u001b[0m\u001b[0;34m\u001b[0m\u001b[0;34m\u001b[0m\u001b[0m\n\u001b[0m\u001b[1;32m      7\u001b[0m \u001b[0mdownload_and_unzip\u001b[0m\u001b[0;34m(\u001b[0m\u001b[0mcsv_url2\u001b[0m\u001b[0;34m,\u001b[0m \u001b[0mextract_directory\u001b[0m \u001b[0;34m=\u001b[0m \u001b[0;34m'./datos/'\u001b[0m\u001b[0;34m)\u001b[0m\u001b[0;34m\u001b[0m\u001b[0;34m\u001b[0m\u001b[0m\n",
      "\u001b[0;32m/tmp/ipykernel_654529/2699484664.py\u001b[0m in \u001b[0;36mdownload_and_unzip\u001b[0;34m(url, extract_directory)\u001b[0m\n\u001b[1;32m     15\u001b[0m \u001b[0;34m\u001b[0m\u001b[0m\n\u001b[1;32m     16\u001b[0m         \u001b[0;32mwith\u001b[0m \u001b[0mzipfile\u001b[0m\u001b[0;34m.\u001b[0m\u001b[0mZipFile\u001b[0m\u001b[0;34m(\u001b[0m\u001b[0mfilename\u001b[0m\u001b[0;34m,\u001b[0m \u001b[0;34m'r'\u001b[0m\u001b[0;34m)\u001b[0m \u001b[0;32mas\u001b[0m \u001b[0mzip_ref\u001b[0m\u001b[0;34m:\u001b[0m\u001b[0;34m\u001b[0m\u001b[0;34m\u001b[0m\u001b[0m\n\u001b[0;32m---> 17\u001b[0;31m             \u001b[0mzip_ref\u001b[0m\u001b[0;34m.\u001b[0m\u001b[0mextractall\u001b[0m\u001b[0;34m(\u001b[0m\u001b[0mextract_directory\u001b[0m\u001b[0;34m)\u001b[0m\u001b[0;34m\u001b[0m\u001b[0;34m\u001b[0m\u001b[0m\n\u001b[0m\u001b[1;32m     18\u001b[0m \u001b[0;34m\u001b[0m\u001b[0m\n\u001b[1;32m     19\u001b[0m         \u001b[0mos\u001b[0m\u001b[0;34m.\u001b[0m\u001b[0mremove\u001b[0m\u001b[0;34m(\u001b[0m\u001b[0mfilename\u001b[0m\u001b[0;34m)\u001b[0m\u001b[0;34m\u001b[0m\u001b[0;34m\u001b[0m\u001b[0m\n",
      "\u001b[0;32m~/anaconda3/lib/python3.9/zipfile.py\u001b[0m in \u001b[0;36mextractall\u001b[0;34m(self, path, members, pwd)\u001b[0m\n\u001b[1;32m   1640\u001b[0m \u001b[0;34m\u001b[0m\u001b[0m\n\u001b[1;32m   1641\u001b[0m         \u001b[0;32mfor\u001b[0m \u001b[0mzipinfo\u001b[0m \u001b[0;32min\u001b[0m \u001b[0mmembers\u001b[0m\u001b[0;34m:\u001b[0m\u001b[0;34m\u001b[0m\u001b[0;34m\u001b[0m\u001b[0m\n\u001b[0;32m-> 1642\u001b[0;31m             \u001b[0mself\u001b[0m\u001b[0;34m.\u001b[0m\u001b[0m_extract_member\u001b[0m\u001b[0;34m(\u001b[0m\u001b[0mzipinfo\u001b[0m\u001b[0;34m,\u001b[0m \u001b[0mpath\u001b[0m\u001b[0;34m,\u001b[0m \u001b[0mpwd\u001b[0m\u001b[0;34m)\u001b[0m\u001b[0;34m\u001b[0m\u001b[0;34m\u001b[0m\u001b[0m\n\u001b[0m\u001b[1;32m   1643\u001b[0m \u001b[0;34m\u001b[0m\u001b[0m\n\u001b[1;32m   1644\u001b[0m     \u001b[0;34m@\u001b[0m\u001b[0mclassmethod\u001b[0m\u001b[0;34m\u001b[0m\u001b[0;34m\u001b[0m\u001b[0m\n",
      "\u001b[0;32m~/anaconda3/lib/python3.9/zipfile.py\u001b[0m in \u001b[0;36m_extract_member\u001b[0;34m(self, member, targetpath, pwd)\u001b[0m\n\u001b[1;32m   1695\u001b[0m         \u001b[0;32mwith\u001b[0m \u001b[0mself\u001b[0m\u001b[0;34m.\u001b[0m\u001b[0mopen\u001b[0m\u001b[0;34m(\u001b[0m\u001b[0mmember\u001b[0m\u001b[0;34m,\u001b[0m \u001b[0mpwd\u001b[0m\u001b[0;34m=\u001b[0m\u001b[0mpwd\u001b[0m\u001b[0;34m)\u001b[0m \u001b[0;32mas\u001b[0m \u001b[0msource\u001b[0m\u001b[0;34m,\u001b[0m\u001b[0;31m \u001b[0m\u001b[0;31m\\\u001b[0m\u001b[0;34m\u001b[0m\u001b[0;34m\u001b[0m\u001b[0m\n\u001b[1;32m   1696\u001b[0m              \u001b[0mopen\u001b[0m\u001b[0;34m(\u001b[0m\u001b[0mtargetpath\u001b[0m\u001b[0;34m,\u001b[0m \u001b[0;34m\"wb\"\u001b[0m\u001b[0;34m)\u001b[0m \u001b[0;32mas\u001b[0m \u001b[0mtarget\u001b[0m\u001b[0;34m:\u001b[0m\u001b[0;34m\u001b[0m\u001b[0;34m\u001b[0m\u001b[0m\n\u001b[0;32m-> 1697\u001b[0;31m             \u001b[0mshutil\u001b[0m\u001b[0;34m.\u001b[0m\u001b[0mcopyfileobj\u001b[0m\u001b[0;34m(\u001b[0m\u001b[0msource\u001b[0m\u001b[0;34m,\u001b[0m \u001b[0mtarget\u001b[0m\u001b[0;34m)\u001b[0m\u001b[0;34m\u001b[0m\u001b[0;34m\u001b[0m\u001b[0m\n\u001b[0m\u001b[1;32m   1698\u001b[0m \u001b[0;34m\u001b[0m\u001b[0m\n\u001b[1;32m   1699\u001b[0m         \u001b[0;32mreturn\u001b[0m \u001b[0mtargetpath\u001b[0m\u001b[0;34m\u001b[0m\u001b[0;34m\u001b[0m\u001b[0m\n",
      "\u001b[0;32m~/anaconda3/lib/python3.9/shutil.py\u001b[0m in \u001b[0;36mcopyfileobj\u001b[0;34m(fsrc, fdst, length)\u001b[0m\n\u001b[1;32m    203\u001b[0m     \u001b[0mfdst_write\u001b[0m \u001b[0;34m=\u001b[0m \u001b[0mfdst\u001b[0m\u001b[0;34m.\u001b[0m\u001b[0mwrite\u001b[0m\u001b[0;34m\u001b[0m\u001b[0;34m\u001b[0m\u001b[0m\n\u001b[1;32m    204\u001b[0m     \u001b[0;32mwhile\u001b[0m \u001b[0;32mTrue\u001b[0m\u001b[0;34m:\u001b[0m\u001b[0;34m\u001b[0m\u001b[0;34m\u001b[0m\u001b[0m\n\u001b[0;32m--> 205\u001b[0;31m         \u001b[0mbuf\u001b[0m \u001b[0;34m=\u001b[0m \u001b[0mfsrc_read\u001b[0m\u001b[0;34m(\u001b[0m\u001b[0mlength\u001b[0m\u001b[0;34m)\u001b[0m\u001b[0;34m\u001b[0m\u001b[0;34m\u001b[0m\u001b[0m\n\u001b[0m\u001b[1;32m    206\u001b[0m         \u001b[0;32mif\u001b[0m \u001b[0;32mnot\u001b[0m \u001b[0mbuf\u001b[0m\u001b[0;34m:\u001b[0m\u001b[0;34m\u001b[0m\u001b[0;34m\u001b[0m\u001b[0m\n\u001b[1;32m    207\u001b[0m             \u001b[0;32mbreak\u001b[0m\u001b[0;34m\u001b[0m\u001b[0;34m\u001b[0m\u001b[0m\n",
      "\u001b[0;32m~/anaconda3/lib/python3.9/zipfile.py\u001b[0m in \u001b[0;36mread\u001b[0;34m(self, n)\u001b[0m\n\u001b[1;32m    922\u001b[0m         \u001b[0mself\u001b[0m\u001b[0;34m.\u001b[0m\u001b[0m_offset\u001b[0m \u001b[0;34m=\u001b[0m \u001b[0;36m0\u001b[0m\u001b[0;34m\u001b[0m\u001b[0;34m\u001b[0m\u001b[0m\n\u001b[1;32m    923\u001b[0m         \u001b[0;32mwhile\u001b[0m \u001b[0mn\u001b[0m \u001b[0;34m>\u001b[0m \u001b[0;36m0\u001b[0m \u001b[0;32mand\u001b[0m \u001b[0;32mnot\u001b[0m \u001b[0mself\u001b[0m\u001b[0;34m.\u001b[0m\u001b[0m_eof\u001b[0m\u001b[0;34m:\u001b[0m\u001b[0;34m\u001b[0m\u001b[0;34m\u001b[0m\u001b[0m\n\u001b[0;32m--> 924\u001b[0;31m             \u001b[0mdata\u001b[0m \u001b[0;34m=\u001b[0m \u001b[0mself\u001b[0m\u001b[0;34m.\u001b[0m\u001b[0m_read1\u001b[0m\u001b[0;34m(\u001b[0m\u001b[0mn\u001b[0m\u001b[0;34m)\u001b[0m\u001b[0;34m\u001b[0m\u001b[0;34m\u001b[0m\u001b[0m\n\u001b[0m\u001b[1;32m    925\u001b[0m             \u001b[0;32mif\u001b[0m \u001b[0mn\u001b[0m \u001b[0;34m<\u001b[0m \u001b[0mlen\u001b[0m\u001b[0;34m(\u001b[0m\u001b[0mdata\u001b[0m\u001b[0;34m)\u001b[0m\u001b[0;34m:\u001b[0m\u001b[0;34m\u001b[0m\u001b[0;34m\u001b[0m\u001b[0m\n\u001b[1;32m    926\u001b[0m                 \u001b[0mself\u001b[0m\u001b[0;34m.\u001b[0m\u001b[0m_readbuffer\u001b[0m \u001b[0;34m=\u001b[0m \u001b[0mdata\u001b[0m\u001b[0;34m\u001b[0m\u001b[0;34m\u001b[0m\u001b[0m\n",
      "\u001b[0;32m~/anaconda3/lib/python3.9/zipfile.py\u001b[0m in \u001b[0;36m_read1\u001b[0;34m(self, n)\u001b[0m\n\u001b[1;32m    998\u001b[0m         \u001b[0;32melif\u001b[0m \u001b[0mself\u001b[0m\u001b[0;34m.\u001b[0m\u001b[0m_compress_type\u001b[0m \u001b[0;34m==\u001b[0m \u001b[0mZIP_DEFLATED\u001b[0m\u001b[0;34m:\u001b[0m\u001b[0;34m\u001b[0m\u001b[0;34m\u001b[0m\u001b[0m\n\u001b[1;32m    999\u001b[0m             \u001b[0mn\u001b[0m \u001b[0;34m=\u001b[0m \u001b[0mmax\u001b[0m\u001b[0;34m(\u001b[0m\u001b[0mn\u001b[0m\u001b[0;34m,\u001b[0m \u001b[0mself\u001b[0m\u001b[0;34m.\u001b[0m\u001b[0mMIN_READ_SIZE\u001b[0m\u001b[0;34m)\u001b[0m\u001b[0;34m\u001b[0m\u001b[0;34m\u001b[0m\u001b[0m\n\u001b[0;32m-> 1000\u001b[0;31m             \u001b[0mdata\u001b[0m \u001b[0;34m=\u001b[0m \u001b[0mself\u001b[0m\u001b[0;34m.\u001b[0m\u001b[0m_decompressor\u001b[0m\u001b[0;34m.\u001b[0m\u001b[0mdecompress\u001b[0m\u001b[0;34m(\u001b[0m\u001b[0mdata\u001b[0m\u001b[0;34m,\u001b[0m \u001b[0mn\u001b[0m\u001b[0;34m)\u001b[0m\u001b[0;34m\u001b[0m\u001b[0;34m\u001b[0m\u001b[0m\n\u001b[0m\u001b[1;32m   1001\u001b[0m             self._eof = (self._decompressor.eof or\n\u001b[1;32m   1002\u001b[0m                          \u001b[0mself\u001b[0m\u001b[0;34m.\u001b[0m\u001b[0m_compress_left\u001b[0m \u001b[0;34m<=\u001b[0m \u001b[0;36m0\u001b[0m \u001b[0;32mand\u001b[0m\u001b[0;34m\u001b[0m\u001b[0;34m\u001b[0m\u001b[0m\n",
      "\u001b[0;31mKeyboardInterrupt\u001b[0m: "
     ]
    }
   ],
   "source": [
    "\n",
    "# URLs for the CSV files\n",
    "csv_url1 = 'https://apis.datos.gob.ar/series/api/dump/sspm/series-tiempo-csv.zip'\n",
    "csv_url2 = 'https://apis.datos.gob.ar/series/api/dump/sspm/series-tiempo-valores-csv.zip'\n",
    "\n",
    "# Download the CSV file if not present\n",
    "download_and_unzip(csv_url1, extract_directory = './datos/')\n",
    "download_and_unzip(csv_url2, extract_directory = './datos/')\n"
   ]
  },
  {
   "cell_type": "code",
   "execution_count": null,
   "metadata": {},
   "outputs": [],
   "source": [
    "# Filenames for the downloaded files\n",
    "csv_filename1 = 'series-tiempo.csv'\n",
    "csv_filename2 = 'series-tiempo-valores.csv'\n",
    "\n",
    "# Load the CSV file as a DataFrame and show head and shape\n",
    "df1 = pd.read_csv('./datos/' + csv_filename1, encoding='latin1')\n",
    "df2 = pd.read_csv('./datos/' + csv_filename2, encoding='latin1')\n"
   ]
  },
  {
   "cell_type": "code",
   "execution_count": null,
   "metadata": {},
   "outputs": [
    {
     "data": {
      "text/plain": [
       "(3242693, 15)"
      ]
     },
     "execution_count": 33,
     "metadata": {},
     "output_type": "execute_result"
    }
   ],
   "source": [
    "df1.shape"
   ]
  },
  {
   "cell_type": "code",
   "execution_count": null,
   "metadata": {},
   "outputs": [
    {
     "data": {
      "text/plain": [
       "(3242693, 7)"
      ]
     },
     "execution_count": 34,
     "metadata": {},
     "output_type": "execute_result"
    }
   ],
   "source": [
    "df2.shape"
   ]
  },
  {
   "cell_type": "code",
   "execution_count": null,
   "metadata": {},
   "outputs": [
    {
     "data": {
      "text/plain": [
       "catalogo_id                 3242693\n",
       "dataset_id                  3242693\n",
       "distribucion_id             3242693\n",
       "serie_id                    3242693\n",
       "indice_tiempo               3242693\n",
       "indice_tiempo_frecuencia    3242693\n",
       "valor                       3006554\n",
       "serie_titulo                3242693\n",
       "serie_unidades              3242351\n",
       "serie_descripcion           3242693\n",
       "distribucion_descripcion    3242693\n",
       "dataset_tema                3225446\n",
       "dataset_responsable         3242693\n",
       "dataset_fuente              3242693\n",
       "dataset_titulo              3242693\n",
       "dtype: int64"
      ]
     },
     "execution_count": 35,
     "metadata": {},
     "output_type": "execute_result"
    }
   ],
   "source": [
    "df1.count()"
   ]
  },
  {
   "cell_type": "code",
   "execution_count": null,
   "metadata": {},
   "outputs": [
    {
     "data": {
      "text/plain": [
       "catalogo_id                       1\n",
       "dataset_id                      267\n",
       "distribucion_id                 652\n",
       "serie_id                      19402\n",
       "indice_tiempo                 26101\n",
       "indice_tiempo_frecuencia          5\n",
       "valor                       1452530\n",
       "serie_titulo                   7498\n",
       "serie_unidades                  132\n",
       "serie_descripcion             10556\n",
       "distribucion_descripcion        610\n",
       "dataset_tema                      8\n",
       "dataset_responsable               2\n",
       "dataset_fuente                   28\n",
       "dataset_titulo                  267\n",
       "dtype: int64"
      ]
     },
     "execution_count": 37,
     "metadata": {},
     "output_type": "execute_result"
    }
   ],
   "source": [
    "df1.nunique()"
   ]
  },
  {
   "cell_type": "code",
   "execution_count": null,
   "metadata": {},
   "outputs": [
    {
     "data": {
      "text/plain": [
       "catalogo_id                 3242693\n",
       "dataset_id                  3242693\n",
       "distribucion_id             3242693\n",
       "serie_id                    3242693\n",
       "indice_tiempo               3242693\n",
       "valor                       3006554\n",
       "indice_tiempo_frecuencia    3242693\n",
       "dtype: int64"
      ]
     },
     "execution_count": 38,
     "metadata": {},
     "output_type": "execute_result"
    }
   ],
   "source": [
    "df2.count()"
   ]
  },
  {
   "cell_type": "code",
   "execution_count": null,
   "metadata": {},
   "outputs": [
    {
     "data": {
      "text/plain": [
       "catalogo_id                       1\n",
       "dataset_id                      267\n",
       "distribucion_id                 652\n",
       "serie_id                      19402\n",
       "indice_tiempo                 26101\n",
       "valor                       1452530\n",
       "indice_tiempo_frecuencia          5\n",
       "dtype: int64"
      ]
     },
     "execution_count": 39,
     "metadata": {},
     "output_type": "execute_result"
    }
   ],
   "source": [
    "df2.nunique()"
   ]
  },
  {
   "cell_type": "code",
   "execution_count": null,
   "metadata": {},
   "outputs": [],
   "source": []
  }
 ],
 "metadata": {
  "kernelspec": {
   "display_name": "base",
   "language": "python",
   "name": "python3"
  },
  "language_info": {
   "codemirror_mode": {
    "name": "ipython",
    "version": 3
   },
   "file_extension": ".py",
   "mimetype": "text/x-python",
   "name": "python",
   "nbconvert_exporter": "python",
   "pygments_lexer": "ipython3",
   "version": "3.9.13"
  },
  "orig_nbformat": 4
 },
 "nbformat": 4,
 "nbformat_minor": 2
}
