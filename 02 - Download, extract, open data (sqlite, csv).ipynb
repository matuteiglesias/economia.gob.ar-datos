{
 "cells": [
  {
   "cell_type": "code",
   "execution_count": 2,
   "metadata": {},
   "outputs": [
    {
     "name": "stdout",
     "output_type": "stream",
     "text": [
      "Encabezado: Valores y metadatos\n",
      "https://apis.datos.gob.ar/series/api/dump/sspm/series-tiempo-csv.zip\n",
      "https://apis.datos.gob.ar/series/api/dump/sspm/series-tiempo.xlsx\n",
      "https://apis.datos.gob.ar/series/api/dump/sspm/series-tiempo-sqlite.zip\n",
      "\n",
      "Encabezado: Metadatos enriquecidos de las series\n",
      "https://apis.datos.gob.ar/series/api/dump/sspm/series-tiempo-metadatos.csv\n",
      "https://apis.datos.gob.ar/series/api/dump/sspm/series-tiempo-metadatos.xlsx\n",
      "https://apis.datos.gob.ar/series/api/dump/sspm/series-tiempo-metadatos.dta\n",
      "\n",
      "Encabezado: Valores\n",
      "https://apis.datos.gob.ar/series/api/dump/sspm/series-tiempo-valores-csv.zip\n",
      "https://apis.datos.gob.ar/series/api/dump/sspm/series-tiempo-valores.xlsx\n",
      "https://apis.datos.gob.ar/series/api/dump/sspm/series-tiempo-valores-dta.zip\n",
      "\n",
      "Encabezado: Fuentes\n",
      "https://apis.datos.gob.ar/series/api/dump/sspm/series-tiempo-fuentes.csv\n",
      "https://apis.datos.gob.ar/series/api/dump/sspm/series-tiempo-fuentes.xlsx\n",
      "https://apis.datos.gob.ar/series/api/dump/sspm/series-tiempo-fuentes.dta\n",
      "\n"
     ]
    }
   ],
   "source": [
    "import json\n",
    "\n",
    "# Load the JSON data from the file\n",
    "with open('enlaces_datos.json', 'r') as file:\n",
    "    enlaces_datos = json.load(file)\n",
    "\n",
    "# Access and use the loaded data as a dictionary\n",
    "for encabezado, enlaces in enlaces_datos.items():\n",
    "    print(f\"Encabezado: {encabezado}\")\n",
    "    for enlace in enlaces:\n",
    "        print(enlace)\n",
    "    print()"
   ]
  },
  {
   "cell_type": "markdown",
   "metadata": {},
   "source": [
    "## Valores y metadatos - SQLITE\n",
    "\n",
    "To download the SQLite database file from the given URL, you can use the requests library in Python. Here's an example:"
   ]
  },
  {
   "cell_type": "markdown",
   "metadata": {},
   "source": [
    "### Bajar el zip"
   ]
  },
  {
   "cell_type": "code",
   "execution_count": 3,
   "metadata": {},
   "outputs": [
    {
     "name": "stdout",
     "output_type": "stream",
     "text": [
      "SQLite database file 'series-tiempo-sqlite.zip' downloaded successfully.\n"
     ]
    }
   ],
   "source": [
    "import requests\n",
    "\n",
    "url = 'https://apis.datos.gob.ar/series/api/dump/sspm/series-tiempo-sqlite.zip'\n",
    "\n",
    "# Send a GET request to the URL\n",
    "response = requests.get(url)\n",
    "\n",
    "# Check if the request was successful\n",
    "if response.status_code == 200:\n",
    "    # Get the filename from the URL\n",
    "    filename = url.split('/')[-1]\n",
    "\n",
    "    # Save the downloaded file\n",
    "    with open(filename, 'wb') as file:\n",
    "        file.write(response.content)\n",
    "    \n",
    "    print(f\"SQLite database file '{filename}' downloaded successfully.\")\n",
    "else:\n",
    "    print(\"Failed to download the SQLite database file.\")\n"
   ]
  },
  {
   "attachments": {},
   "cell_type": "markdown",
   "metadata": {},
   "source": [
    "### Descomprimir"
   ]
  },
  {
   "cell_type": "code",
   "execution_count": 4,
   "metadata": {},
   "outputs": [
    {
     "name": "stdout",
     "output_type": "stream",
     "text": [
      "The contents of 'series-tiempo-sqlite.zip' have been extracted to './datos/'.\n"
     ]
    }
   ],
   "source": [
    "import zipfile\n",
    "\n",
    "zip_filename = 'series-tiempo-sqlite.zip'\n",
    "extract_directory = './datos/'\n",
    "\n",
    "# Extract the contents of the ZIP file\n",
    "with zipfile.ZipFile(zip_filename, 'r') as zip_ref:\n",
    "    zip_ref.extractall(extract_directory)\n",
    "\n",
    "print(f\"The contents of '{zip_filename}' have been extracted to '{extract_directory}'.\")\n"
   ]
  },
  {
   "cell_type": "code",
   "execution_count": null,
   "metadata": {},
   "outputs": [],
   "source": []
  },
  {
   "cell_type": "code",
   "execution_count": 5,
   "metadata": {},
   "outputs": [
    {
     "name": "stdout",
     "output_type": "stream",
     "text": [
      "fuentes\n",
      "metadatos\n",
      "valores\n"
     ]
    }
   ],
   "source": [
    "import sqlite3\n",
    "\n",
    "database_file = './datos/series-tiempo.sqlite'\n",
    "\n",
    "# Connect to the SQLite database\n",
    "conn = sqlite3.connect(database_file)\n",
    "\n",
    "# Create a cursor object to execute SQL queries\n",
    "cursor = conn.cursor()\n",
    "\n",
    "# Retrieve the table names in the database\n",
    "cursor.execute(\"SELECT name FROM sqlite_master WHERE type='table'\")\n",
    "tables = cursor.fetchall()\n",
    "\n",
    "# Print the table names\n",
    "for table in tables:\n",
    "    print(table[0])\n",
    "\n",
    "# Close the cursor and the database connection\n",
    "cursor.close()\n",
    "conn.close()\n"
   ]
  },
  {
   "cell_type": "code",
   "execution_count": 6,
   "metadata": {},
   "outputs": [],
   "source": [
    "import sqlite3\n",
    "\n",
    "database_file = './datos/series-tiempo.sqlite'\n",
    "\n",
    "def show_table_head(table_name, num_rows=5):\n",
    "    # Connect to the SQLite database\n",
    "    conn = sqlite3.connect(database_file)\n",
    "\n",
    "    # Create a cursor object to execute SQL queries\n",
    "    cursor = conn.cursor()\n",
    "\n",
    "    try:\n",
    "        # Execute the query to retrieve the head of the table\n",
    "        cursor.execute(f\"SELECT * FROM {table_name} LIMIT {num_rows}\")\n",
    "        rows = cursor.fetchall()\n",
    "\n",
    "        # Print the retrieved rows\n",
    "        for row in rows:\n",
    "            print(row)\n",
    "\n",
    "        # Get the shape of the table\n",
    "        cursor.execute(f\"SELECT COUNT(*) FROM {table_name}\")\n",
    "        num_rows = cursor.fetchone()[0]\n",
    "        cursor.execute(f\"PRAGMA table_info({table_name})\")\n",
    "        columns = cursor.fetchall()\n",
    "        num_columns = len(columns)\n",
    "\n",
    "        print(f\"\\nTabla: {table_name}\")\n",
    "        print(f\"Número de filas: {num_rows}\")\n",
    "        print(f\"Número de columnas: {num_columns}\")\n",
    "\n",
    "        # Get the number of unique entries per column\n",
    "        unique_entries = []\n",
    "        for i in range(num_columns):\n",
    "            column_name = columns[i][1]\n",
    "            if column_name is None:\n",
    "                continue\n",
    "            cursor.execute(f\"SELECT COUNT(DISTINCT {column_name}) FROM {table_name}\")\n",
    "            unique_count = cursor.fetchone()[0]\n",
    "            unique_entries.append(unique_count)\n",
    "\n",
    "        print(\"\\nNúmero de entradas únicas por columna:\")\n",
    "        for i in range(num_columns):\n",
    "            column_name = columns[i][1]\n",
    "            if column_name is None:\n",
    "                continue\n",
    "            unique_count = unique_entries[i]\n",
    "            print(f\"{column_name}: {unique_count}\")\n",
    "\n",
    "    except sqlite3.OperationalError as e:\n",
    "        print(f\"Error: {e}\")\n",
    "\n",
    "    # Close the cursor and the database connection\n",
    "    cursor.close()\n",
    "    conn.close()\n"
   ]
  },
  {
   "cell_type": "code",
   "execution_count": 7,
   "metadata": {},
   "outputs": [
    {
     "name": "stdout",
     "output_type": "stream",
     "text": [
      "('1.1_DGCP_D_1993_A_27', 'sspm', '1', '1.1', 'R/P1Y', 'demanda_global_consumo_priv', 'Millones de pesos a precios de 1993', 'Consumo privado desestacionalizado, en millones de pesos de 1993 y Trimestral', 'Oferta y Demanda Global. Precios constantes desestacionalizados. Base 1993. Valores anuales.', 'Consumo privado desestacionalizado, en millones de pesos de 1993 y Trimestral', 'https://infra.datos.gob.ar/catalog/sspm/dataset/1/distribution/1.1/download/oferta-demanda-globales-datos-desestacionalizados-valores-anuales-base-1993.csv', 'Oferta y Demanda Globales. Datos desestacionalizados. Base 1993', 'Instituto Nacional de Estadística y Censos (INDEC)', 'Actividad', 'Componentes desestacionalizados de la oferta y demanda globales a precios de 1993.', 'Actividad', '1993-01-01', '2012-01-01', 20, 3074, 0, 62643.77010394083, 58881.473, 0.06389611047843236, 1, 261, 5, 9, 31)\n",
      "('1.1_DGCP_D_1993_A_30', 'sspm', '1', '1.1', 'R/P1Y', 'demanda_global_consumo_publico', 'Millones de pesos a precios de 1993', 'Consumo publico desestacionalizado, en millones de pesos de 1993 y Trimestral', 'Oferta y Demanda Global. Precios constantes desestacionalizados. Base 1993. Valores anuales.', 'Consumo publico desestacionalizado, en millones de pesos de 1993 y Trimestral', 'https://infra.datos.gob.ar/catalog/sspm/dataset/1/distribution/1.1/download/oferta-demanda-globales-datos-desestacionalizados-valores-anuales-base-1993.csv', 'Oferta y Demanda Globales. Datos desestacionalizados. Base 1993', 'Instituto Nacional de Estadística y Censos (INDEC)', 'Actividad', 'Componentes desestacionalizados de la oferta y demanda globales a precios de 1993.', 'Actividad', '1993-01-01', '2012-01-01', 20, 3074, 0, 316988.17049886595, 303623.485, 0.04401729826289946, 1, 24711, 15, 14, 35)\n",
      "('1.1_DGE_D_1993_A_26', 'sspm', '1', '1.1', 'R/P1Y', 'demanda_global_exportacion', 'Millones de pesos a precios de 1993', 'Exportaciones desestacionalizadas, en millones de pesos de 1993 y Trimestral', 'Oferta y Demanda Global. Precios constantes desestacionalizados. Base 1993. Valores anuales.', 'Exportaciones desestacionalizadas, en millones de pesos de 1993 y Trimestral', 'https://infra.datos.gob.ar/catalog/sspm/dataset/1/distribution/1.1/download/oferta-demanda-globales-datos-desestacionalizados-valores-anuales-base-1993.csv', 'Oferta y Demanda Globales. Datos desestacionalizados. Base 1993', 'Instituto Nacional de Estadística y Censos (INDEC)', 'Actividad', 'Componentes desestacionalizados de la oferta y demanda globales a precios de 1993.', 'Actividad', '1993-01-01', '2012-01-01', 20, 3074, 0, 53141.11327880729, 57064.30975000003, -0.06875044118434714, 1, 114, 12, 9, 33)\n",
      "('1.1_DGI_D_1993_A_19', 'sspm', '1', '1.1', 'R/P1Y', 'demanda_global_ibif', 'Millones de pesos a precios de 1993', 'Inversion bruta interna fija desestacionalizada, en millones de pesos de 1993 y Trimestral', 'Oferta y Demanda Global. Precios constantes desestacionalizados. Base 1993. Valores anuales.', 'Inversion bruta interna fija desestacionalizada, en millones de pesos de 1993 y Trimestral', 'https://infra.datos.gob.ar/catalog/sspm/dataset/1/distribution/1.1/download/oferta-demanda-globales-datos-desestacionalizados-valores-anuales-base-1993.csv', 'Oferta y Demanda Globales. Datos desestacionalizados. Base 1993', 'Instituto Nacional de Estadística y Censos (INDEC)', 'Actividad', 'Componentes desestacionalizados de la oferta y demanda globales a precios de 1993.', 'Actividad', '1993-01-01', '2012-01-01', 20, 3074, 0, 106706.81948732876, 112365.92175, -0.05036315436687311, 1, 24528, 15, 15, 35)\n",
      "('1.1_OGI_D_1993_A_25', 'sspm', '1', '1.1', 'R/P1Y', 'oferta_global_importacion', 'Millones de pesos a precios de 1993', 'Importaciones desestacionalizadas, en millones de pesos de 1993 y Trimestral', 'Oferta y Demanda Global. Precios constantes desestacionalizados. Base 1993. Valores anuales.', 'Importaciones desestacionalizadas, en millones de pesos de 1993 y Trimestral', 'https://infra.datos.gob.ar/catalog/sspm/dataset/1/distribution/1.1/download/oferta-demanda-globales-datos-desestacionalizados-valores-anuales-base-1993.csv', 'Oferta y Demanda Globales. Datos desestacionalizados. Base 1993', 'Instituto Nacional de Estadística y Censos (INDEC)', 'Actividad', 'Componentes desestacionalizados de la oferta y demanda globales a precios de 1993.', 'Actividad', '1993-01-01', '2012-01-01', 20, 3074, 0, 65655.9833486338, 69527.17349999999, -0.05567880810466408, 1, 103, 10, 9, 31)\n",
      "\n",
      "Tabla: metadatos\n",
      "Número de filas: 19891\n",
      "Número de columnas: 29\n"
     ]
    },
    {
     "name": "stdout",
     "output_type": "stream",
     "text": [
      "\n",
      "Número de entradas únicas por columna:\n",
      "serie_id: 19891\n",
      "catalogo_id: 1\n",
      "dataset_id: 267\n",
      "distribucion_id: 662\n",
      "indice_tiempo_frecuencia: 5\n",
      "serie_titulo: 7800\n",
      "serie_unidades: 136\n",
      "serie_descripcion: 10996\n",
      "distribucion_titulo: 645\n",
      "distribucion_descripcion: 10996\n",
      "distribucion_url_descarga: 646\n",
      "dataset_responsable: 267\n",
      "dataset_fuente: 27\n",
      "dataset_titulo: 9\n",
      "dataset_descripcion: 256\n",
      "dataset_tema: 9\n",
      "serie_indice_inicio: 314\n",
      "serie_indice_final: 237\n",
      "serie_valores_cant: 374\n",
      "serie_dias_no_cubiertos: 109\n",
      "serie_actualizada: 2\n",
      "serie_valor_ultimo: 16613\n",
      "serie_valor_anterior: 16210\n",
      "serie_var_pct_anterior: 16858\n",
      "serie_discontinuada: 1\n",
      "consultas_total: 1039\n",
      "consultas_30_dias: 376\n",
      "consultas_90_dias: 301\n",
      "consultas_180_dias: 574\n"
     ]
    }
   ],
   "source": [
    "show_table_head(\"metadatos\")\n"
   ]
  },
  {
   "cell_type": "code",
   "execution_count": 8,
   "metadata": {},
   "outputs": [
    {
     "name": "stdout",
     "output_type": "stream",
     "text": [
      "('1.1_OGP_D_1993_A_17', '1993-01-01', 236520.03357744176)\n",
      "('1.1_OGP_D_1993_A_17', '1994-01-01', 250307.88599999977)\n",
      "('1.1_OGP_D_1993_A_17', '1995-01-01', 243186.10174999977)\n",
      "('1.1_OGP_D_1993_A_17', '1996-01-01', 256626.24399999998)\n",
      "('1.1_OGP_D_1993_A_17', '1997-01-01', 277441.31725)\n",
      "\n",
      "Tabla: valores\n",
      "Número de filas: 582501\n",
      "Número de columnas: 3\n",
      "\n",
      "Número de entradas únicas por columna:\n",
      "serie_id: 1747\n",
      "indice_tiempo: 8975\n",
      "valor: 284251\n"
     ]
    }
   ],
   "source": [
    "show_table_head(\"valores\")\n"
   ]
  },
  {
   "cell_type": "markdown",
   "metadata": {},
   "source": [
    "## Datos extra del sqlite, a formato CSV"
   ]
  },
  {
   "cell_type": "code",
   "execution_count": 9,
   "metadata": {},
   "outputs": [],
   "source": [
    "import sqlite3\n",
    "import pandas as pd\n",
    "\n",
    "database_file = 'datos/series-tiempo.sqlite'\n",
    "output_directory = './datos/'\n",
    "\n",
    "def save_csv(data, filename):\n",
    "    data.to_csv(output_directory + filename, index=False)\n",
    "    print(f\"CSV file '{filename}' saved successfully.\")\n",
    "\n",
    "def save_metadata_csv():\n",
    "    conn = sqlite3.connect(database_file)\n",
    "    cursor = conn.cursor()\n",
    "\n",
    "    try:\n",
    "        cursor.execute(\"SELECT serie_id, catalogo_id, dataset_id, distribucion_id, indice_tiempo_frecuencia FROM metadatos\")\n",
    "        rows = cursor.fetchall()\n",
    "        df = pd.DataFrame(rows, columns=[\"serie_id\", \"catalogo_id\", \"dataset_id\", \"distribucion_id\", \"indice_tiempo_frecuencia\"])\n",
    "        save_csv(df, \"index.csv\")\n",
    "    except sqlite3.OperationalError as e:\n",
    "        print(f\"Error: {e}\")\n",
    "\n",
    "    cursor.close()\n",
    "    conn.close()\n",
    "\n",
    "def save_csv_group_by_prefix(table_name, column_prefix):\n",
    "    conn = sqlite3.connect(database_file)\n",
    "    cursor = conn.cursor()\n",
    "\n",
    "    try:\n",
    "        cursor.execute(f\"PRAGMA table_info({table_name})\")\n",
    "        columns = cursor.fetchall()\n",
    "\n",
    "        matching_columns = [column[1] for column in columns if column[1].startswith(column_prefix)]\n",
    "        if not matching_columns:\n",
    "            print(f\"No columns found with prefix '{column_prefix}' in table '{table_name}'.\")\n",
    "            return\n",
    "\n",
    "        column_names = [\"serie_id\"] + matching_columns\n",
    "        cursor.execute(f\"SELECT serie_id, {','.join(matching_columns)} FROM {table_name}\")\n",
    "        rows = cursor.fetchall()\n",
    "        df = pd.DataFrame(rows, columns=column_names)\n",
    "        save_csv(df, f\"{column_prefix}.csv\")\n",
    "    except sqlite3.OperationalError as e:\n",
    "        print(f\"Error: {e}\")\n",
    "\n",
    "    cursor.close()\n",
    "    conn.close()\n"
   ]
  },
  {
   "cell_type": "code",
   "execution_count": 10,
   "metadata": {},
   "outputs": [
    {
     "name": "stdout",
     "output_type": "stream",
     "text": [
      "CSV file 'index.csv' saved successfully.\n",
      "CSV file 'serie.csv' saved successfully.\n",
      "CSV file 'distribucion.csv' saved successfully.\n",
      "CSV file 'dataset.csv' saved successfully.\n",
      "CSV file 'consultas.csv' saved successfully.\n"
     ]
    }
   ],
   "source": [
    "\n",
    "# Usage example:\n",
    "save_metadata_csv()\n",
    "\n",
    "save_csv_group_by_prefix(\"metadatos\", \"serie\")\n",
    "save_csv_group_by_prefix(\"metadatos\", \"distribucion\")\n",
    "save_csv_group_by_prefix(\"metadatos\", \"dataset\")\n",
    "save_csv_group_by_prefix(\"metadatos\", \"consultas\")"
   ]
  },
  {
   "cell_type": "markdown",
   "metadata": {},
   "source": [
    "## Leer CSV"
   ]
  },
  {
   "cell_type": "code",
   "execution_count": 11,
   "metadata": {},
   "outputs": [],
   "source": [
    "import requests\n",
    "import zipfile\n",
    "import os\n",
    "\n",
    "def download_and_unzip(url, extract_directory=None):\n",
    "    response = requests.get(url)\n",
    "    if response.status_code == 200:\n",
    "        filename = url.split('/')[-1]  # Extract filename from the URL\n",
    "        \n",
    "        if not extract_directory:\n",
    "            extract_directory = os.path.splitext(filename)[0]\n",
    "        \n",
    "        with open(filename, 'wb') as file:\n",
    "            file.write(response.content)\n",
    "        \n",
    "        with zipfile.ZipFile(filename, 'r') as zip_ref:\n",
    "            zip_ref.extractall(extract_directory)\n",
    "        \n",
    "        os.remove(filename)\n",
    "        \n",
    "        print(f\"The contents of '{filename}' have been extracted to '{extract_directory}'.\")\n",
    "    else:\n",
    "        print(f\"Failed to download file from '{url}'.\")"
   ]
  },
  {
   "cell_type": "code",
   "execution_count": 12,
   "metadata": {},
   "outputs": [
    {
     "name": "stdout",
     "output_type": "stream",
     "text": [
      "The contents of 'series-tiempo-csv.zip' have been extracted to './datos/'.\n",
      "The contents of 'series-tiempo-valores-csv.zip' have been extracted to './datos/'.\n"
     ]
    }
   ],
   "source": [
    "\n",
    "# URLs for the CSV files\n",
    "csv_url1 = 'https://apis.datos.gob.ar/series/api/dump/sspm/series-tiempo-csv.zip'\n",
    "csv_url2 = 'https://apis.datos.gob.ar/series/api/dump/sspm/series-tiempo-valores-csv.zip'\n",
    "\n",
    "# Download the CSV file if not present\n",
    "download_and_unzip(csv_url1, extract_directory = './datos/')\n",
    "download_and_unzip(csv_url2, extract_directory = './datos/')\n"
   ]
  },
  {
   "cell_type": "code",
   "execution_count": 13,
   "metadata": {},
   "outputs": [],
   "source": [
    "# Filenames for the downloaded files\n",
    "csv_filename1 = 'series-tiempo.csv'\n",
    "csv_filename2 = 'series-tiempo-valores.csv'\n",
    "\n",
    "# Load the CSV file as a DataFrame and show head and shape\n",
    "df1 = pd.read_csv('./datos/' + csv_filename1, encoding='latin1')\n",
    "df2 = pd.read_csv('./datos/' + csv_filename2, encoding='latin1')\n"
   ]
  },
  {
   "cell_type": "code",
   "execution_count": 14,
   "metadata": {},
   "outputs": [
    {
     "data": {
      "text/plain": [
       "(2794180, 15)"
      ]
     },
     "execution_count": 14,
     "metadata": {},
     "output_type": "execute_result"
    }
   ],
   "source": [
    "df1.shape\n",
    "\n",
    "# (3242693, 15)\n",
    "# "
   ]
  },
  {
   "cell_type": "code",
   "execution_count": 15,
   "metadata": {},
   "outputs": [
    {
     "data": {
      "text/plain": [
       "(2794180, 7)"
      ]
     },
     "execution_count": 15,
     "metadata": {},
     "output_type": "execute_result"
    }
   ],
   "source": [
    "df2.shape\n",
    "\n",
    "# (3242693, 7)\n",
    "# "
   ]
  },
  {
   "cell_type": "code",
   "execution_count": 16,
   "metadata": {},
   "outputs": [
    {
     "data": {
      "text/plain": [
       "catalogo_id                 2794180\n",
       "dataset_id                  2794180\n",
       "distribucion_id             2794180\n",
       "serie_id                    2794180\n",
       "indice_tiempo               2794180\n",
       "indice_tiempo_frecuencia    2794180\n",
       "valor                       2555468\n",
       "serie_titulo                2794180\n",
       "serie_unidades              2793834\n",
       "serie_descripcion           2794180\n",
       "distribucion_descripcion    2794180\n",
       "dataset_tema                2777624\n",
       "dataset_responsable         2794180\n",
       "dataset_fuente              2794180\n",
       "dataset_titulo              2794180\n",
       "dtype: int64"
      ]
     },
     "execution_count": 16,
     "metadata": {},
     "output_type": "execute_result"
    }
   ],
   "source": [
    "df1.count()"
   ]
  },
  {
   "cell_type": "code",
   "execution_count": 17,
   "metadata": {},
   "outputs": [
    {
     "data": {
      "text/plain": [
       "catalogo_id                       1\n",
       "dataset_id                      266\n",
       "distribucion_id                 654\n",
       "serie_id                      19771\n",
       "indice_tiempo                 26485\n",
       "indice_tiempo_frecuencia          5\n",
       "valor                       1539433\n",
       "serie_titulo                   7725\n",
       "serie_unidades                  134\n",
       "serie_descripcion             10812\n",
       "distribucion_descripcion        612\n",
       "dataset_tema                      8\n",
       "dataset_responsable               2\n",
       "dataset_fuente                   28\n",
       "dataset_titulo                  266\n",
       "dtype: int64"
      ]
     },
     "execution_count": 17,
     "metadata": {},
     "output_type": "execute_result"
    }
   ],
   "source": [
    "df1.nunique()"
   ]
  },
  {
   "cell_type": "code",
   "execution_count": 18,
   "metadata": {},
   "outputs": [
    {
     "data": {
      "text/plain": [
       "catalogo_id                 2794180\n",
       "dataset_id                  2794180\n",
       "distribucion_id             2794180\n",
       "serie_id                    2794180\n",
       "indice_tiempo               2794180\n",
       "valor                       2555468\n",
       "indice_tiempo_frecuencia    2794180\n",
       "dtype: int64"
      ]
     },
     "execution_count": 18,
     "metadata": {},
     "output_type": "execute_result"
    }
   ],
   "source": [
    "df2.count()"
   ]
  },
  {
   "cell_type": "code",
   "execution_count": 19,
   "metadata": {},
   "outputs": [
    {
     "data": {
      "text/plain": [
       "catalogo_id                       1\n",
       "dataset_id                      266\n",
       "distribucion_id                 654\n",
       "serie_id                      19771\n",
       "indice_tiempo                 26485\n",
       "valor                       1539433\n",
       "indice_tiempo_frecuencia          5\n",
       "dtype: int64"
      ]
     },
     "execution_count": 19,
     "metadata": {},
     "output_type": "execute_result"
    }
   ],
   "source": [
    "df2.nunique()"
   ]
  },
  {
   "cell_type": "code",
   "execution_count": 20,
   "metadata": {},
   "outputs": [
    {
     "data": {
      "text/html": [
       "<div>\n",
       "<style scoped>\n",
       "    .dataframe tbody tr th:only-of-type {\n",
       "        vertical-align: middle;\n",
       "    }\n",
       "\n",
       "    .dataframe tbody tr th {\n",
       "        vertical-align: top;\n",
       "    }\n",
       "\n",
       "    .dataframe thead th {\n",
       "        text-align: right;\n",
       "    }\n",
       "</style>\n",
       "<table border=\"1\" class=\"dataframe\">\n",
       "  <thead>\n",
       "    <tr style=\"text-align: right;\">\n",
       "      <th></th>\n",
       "      <th>catalogo_id</th>\n",
       "      <th>dataset_id</th>\n",
       "      <th>distribucion_id</th>\n",
       "      <th>serie_id</th>\n",
       "      <th>indice_tiempo</th>\n",
       "      <th>indice_tiempo_frecuencia</th>\n",
       "      <th>valor</th>\n",
       "      <th>serie_titulo</th>\n",
       "      <th>serie_unidades</th>\n",
       "      <th>serie_descripcion</th>\n",
       "      <th>distribucion_descripcion</th>\n",
       "      <th>dataset_tema</th>\n",
       "      <th>dataset_responsable</th>\n",
       "      <th>dataset_fuente</th>\n",
       "      <th>dataset_titulo</th>\n",
       "    </tr>\n",
       "  </thead>\n",
       "  <tbody>\n",
       "    <tr>\n",
       "      <th>0</th>\n",
       "      <td>sspm</td>\n",
       "      <td>1</td>\n",
       "      <td>1.1</td>\n",
       "      <td>1.1_OGP_D_1993_A_17</td>\n",
       "      <td>1993-01-01</td>\n",
       "      <td>R/P1Y</td>\n",
       "      <td>236520.033577</td>\n",
       "      <td>oferta_global_pib</td>\n",
       "      <td>Millones de pesos a precios de 1993</td>\n",
       "      <td>PIB desestacionalizado, en millones de pesos d...</td>\n",
       "      <td>Oferta y Demanda Globales por componente, a pr...</td>\n",
       "      <td>Actividad</td>\n",
       "      <td>SubsecretarÃ­a de ProgramaciÃ³n MacroeconÃ³mica</td>\n",
       "      <td>Instituto Nacional de EstadÃ­stica y Censos (I...</td>\n",
       "      <td>Oferta y Demanda Globales. Datos desestacional...</td>\n",
       "    </tr>\n",
       "    <tr>\n",
       "      <th>1</th>\n",
       "      <td>sspm</td>\n",
       "      <td>1</td>\n",
       "      <td>1.1</td>\n",
       "      <td>1.1_OGP_D_1993_A_17</td>\n",
       "      <td>1994-01-01</td>\n",
       "      <td>R/P1Y</td>\n",
       "      <td>250307.886000</td>\n",
       "      <td>oferta_global_pib</td>\n",
       "      <td>Millones de pesos a precios de 1993</td>\n",
       "      <td>PIB desestacionalizado, en millones de pesos d...</td>\n",
       "      <td>Oferta y Demanda Globales por componente, a pr...</td>\n",
       "      <td>Actividad</td>\n",
       "      <td>SubsecretarÃ­a de ProgramaciÃ³n MacroeconÃ³mica</td>\n",
       "      <td>Instituto Nacional de EstadÃ­stica y Censos (I...</td>\n",
       "      <td>Oferta y Demanda Globales. Datos desestacional...</td>\n",
       "    </tr>\n",
       "  </tbody>\n",
       "</table>\n",
       "</div>"
      ],
      "text/plain": [
       "  catalogo_id  dataset_id  distribucion_id             serie_id indice_tiempo  \\\n",
       "0        sspm           1              1.1  1.1_OGP_D_1993_A_17    1993-01-01   \n",
       "1        sspm           1              1.1  1.1_OGP_D_1993_A_17    1994-01-01   \n",
       "\n",
       "  indice_tiempo_frecuencia          valor       serie_titulo  \\\n",
       "0                    R/P1Y  236520.033577  oferta_global_pib   \n",
       "1                    R/P1Y  250307.886000  oferta_global_pib   \n",
       "\n",
       "                        serie_unidades  \\\n",
       "0  Millones de pesos a precios de 1993   \n",
       "1  Millones de pesos a precios de 1993   \n",
       "\n",
       "                                   serie_descripcion  \\\n",
       "0  PIB desestacionalizado, en millones de pesos d...   \n",
       "1  PIB desestacionalizado, en millones de pesos d...   \n",
       "\n",
       "                            distribucion_descripcion dataset_tema  \\\n",
       "0  Oferta y Demanda Globales por componente, a pr...    Actividad   \n",
       "1  Oferta y Demanda Globales por componente, a pr...    Actividad   \n",
       "\n",
       "                               dataset_responsable  \\\n",
       "0  SubsecretarÃ­a de ProgramaciÃ³n MacroeconÃ³mica   \n",
       "1  SubsecretarÃ­a de ProgramaciÃ³n MacroeconÃ³mica   \n",
       "\n",
       "                                      dataset_fuente  \\\n",
       "0  Instituto Nacional de EstadÃ­stica y Censos (I...   \n",
       "1  Instituto Nacional de EstadÃ­stica y Censos (I...   \n",
       "\n",
       "                                      dataset_titulo  \n",
       "0  Oferta y Demanda Globales. Datos desestacional...  \n",
       "1  Oferta y Demanda Globales. Datos desestacional...  "
      ]
     },
     "execution_count": 20,
     "metadata": {},
     "output_type": "execute_result"
    }
   ],
   "source": [
    "df1.head(2)"
   ]
  },
  {
   "cell_type": "code",
   "execution_count": 21,
   "metadata": {},
   "outputs": [],
   "source": [
    "# df2.loc[df2.serie_id == '1.1_OGP_D_1993_A_17'].plot()"
   ]
  },
  {
   "cell_type": "code",
   "execution_count": null,
   "metadata": {},
   "outputs": [],
   "source": []
  }
 ],
 "metadata": {
  "kernelspec": {
   "display_name": "base",
   "language": "python",
   "name": "python3"
  },
  "language_info": {
   "codemirror_mode": {
    "name": "ipython",
    "version": 3
   },
   "file_extension": ".py",
   "mimetype": "text/x-python",
   "name": "python",
   "nbconvert_exporter": "python",
   "pygments_lexer": "ipython3",
   "version": "3.11.3"
  },
  "orig_nbformat": 4
 },
 "nbformat": 4,
 "nbformat_minor": 2
}
