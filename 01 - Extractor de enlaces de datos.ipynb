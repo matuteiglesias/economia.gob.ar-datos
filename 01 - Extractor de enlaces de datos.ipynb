{
 "cells": [
  {
   "cell_type": "code",
   "execution_count": 1,
   "metadata": {},
   "outputs": [
    {
     "name": "stdout",
     "output_type": "stream",
     "text": [
      "{'Valores y metadatos': ['https://apis.datos.gob.ar/series/api/dump/sspm/series-tiempo-csv.zip', 'https://apis.datos.gob.ar/series/api/dump/sspm/series-tiempo.xlsx', 'https://apis.datos.gob.ar/series/api/dump/sspm/series-tiempo-sqlite.zip'], 'Metadatos enriquecidos de las series': ['https://apis.datos.gob.ar/series/api/dump/sspm/series-tiempo-metadatos.csv', 'https://apis.datos.gob.ar/series/api/dump/sspm/series-tiempo-metadatos.xlsx', 'https://apis.datos.gob.ar/series/api/dump/sspm/series-tiempo-metadatos.dta'], 'Valores': ['https://apis.datos.gob.ar/series/api/dump/sspm/series-tiempo-valores-csv.zip', 'https://apis.datos.gob.ar/series/api/dump/sspm/series-tiempo-valores.xlsx', 'https://apis.datos.gob.ar/series/api/dump/sspm/series-tiempo-valores-dta.zip'], 'Fuentes': ['https://apis.datos.gob.ar/series/api/dump/sspm/series-tiempo-fuentes.csv', 'https://apis.datos.gob.ar/series/api/dump/sspm/series-tiempo-fuentes.xlsx', 'https://apis.datos.gob.ar/series/api/dump/sspm/series-tiempo-fuentes.dta']}\n"
     ]
    },
    {
     "name": "stderr",
     "output_type": "stream",
     "text": [
      "/home/matias/anaconda3/lib/python3.9/site-packages/urllib3/connectionpool.py:1045: InsecureRequestWarning: Unverified HTTPS request is being made to host 'www.economia.gob.ar'. Adding certificate verification is strongly advised. See: https://urllib3.readthedocs.io/en/1.26.x/advanced-usage.html#ssl-warnings\n",
      "  warnings.warn(\n"
     ]
    }
   ],
   "source": [
    "import requests\n",
    "from bs4 import BeautifulSoup\n",
    "\n",
    "# URL de la página web a raspar\n",
    "url = 'https://www.economia.gob.ar/datos/'\n",
    "\n",
    "# Enviar una solicitud GET a la página web\n",
    "respuesta = requests.get(url, verify=False)\n",
    "\n",
    "# Crear un objeto BeautifulSoup para analizar el contenido HTML\n",
    "soup = BeautifulSoup(respuesta.content, 'html.parser')\n",
    "\n",
    "# Inicializar un diccionario para almacenar los resultados\n",
    "enlaces_datos = {}\n",
    "\n",
    "# Encontrar todos los objetos div\n",
    "divs = soup.find_all('div', {'class': 'row'})\n",
    "\n",
    "# Encabezados deseados para buscar\n",
    "encabezados_deseados = ['Valores y metadatos', 'Metadatos enriquecidos de las series', 'Valores', 'Fuentes']\n",
    "\n",
    "# Iterar sobre los objetos div\n",
    "for div in divs:\n",
    "    # Encontrar los encabezados y verificar si coinciden con los encabezados deseados\n",
    "    encabezado = div.find('h3')\n",
    "    if encabezado and encabezado.text.strip() in encabezados_deseados:\n",
    "        # Encontrar todos los enlaces de descarga dentro de la sección\n",
    "        enlaces_descarga = div.find_all('a')\n",
    "        enlaces = [enlace.get('href') for enlace in enlaces_descarga]\n",
    "        enlaces_datos[encabezado.text.strip()] = enlaces\n",
    "\n",
    "# Imprimir el diccionario de enlaces de datos\n",
    "print(enlaces_datos)\n"
   ]
  },
  {
   "cell_type": "code",
   "execution_count": 11,
   "metadata": {},
   "outputs": [],
   "source": [
    "import json\n",
    "\n",
    "# Guardar enlaces_datos en un archivo JSON\n",
    "with open('enlaces_datos.json', 'w') as file:\n",
    "    json.dump(enlaces_datos, file)\n"
   ]
  },
  {
   "cell_type": "code",
   "execution_count": null,
   "metadata": {},
   "outputs": [],
   "source": []
  }
 ],
 "metadata": {
  "kernelspec": {
   "display_name": "base",
   "language": "python",
   "name": "python3"
  },
  "language_info": {
   "codemirror_mode": {
    "name": "ipython",
    "version": 3
   },
   "file_extension": ".py",
   "mimetype": "text/x-python",
   "name": "python",
   "nbconvert_exporter": "python",
   "pygments_lexer": "ipython3",
   "version": "3.9.13"
  },
  "orig_nbformat": 4
 },
 "nbformat": 4,
 "nbformat_minor": 2
}
